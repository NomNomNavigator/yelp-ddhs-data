{
 "cells": [
  {
   "cell_type": "code",
   "execution_count": 2,
   "id": "3596c21f-b578-43a1-8fa0-02d713da5ec1",
   "metadata": {},
   "outputs": [],
   "source": [
    "import pandas as pd"
   ]
  },
  {
   "cell_type": "code",
   "execution_count": 4,
   "id": "d4e28e05-db34-4636-a66f-d8a8cdc4faf7",
   "metadata": {},
   "outputs": [],
   "source": [
    "df = pd.read_csv(\"/Users/mike/projects/explore-yelp-api/fetched_data/Restaurant_Inspection_Violations_20240104.csv\")"
   ]
  },
  {
   "cell_type": "code",
   "execution_count": 5,
   "id": "8249a0a6-707e-42e7-a3a1-3914589e75d2",
   "metadata": {},
   "outputs": [
    {
     "data": {
      "text/plain": [
       "<bound method NDFrame.head of       Food Establishment Name Food Establishment Street Address  \\\n",
       "0           1000 Degree Pizza         4526 New Linden Hill Road   \n",
       "1           1000 Degree Pizza         4526 New Linden Hill Road   \n",
       "2           1000 Degree Pizza         4526 New Linden Hill Road   \n",
       "3           1000 Degree Pizza         4526 New Linden Hill Road   \n",
       "4           1000 Degree Pizza         4526 New Linden Hill Road   \n",
       "...                       ...                               ...   \n",
       "30139                 Zollies               414 Delaware Street   \n",
       "30140                 Zollies               414 Delaware Street   \n",
       "30141                 Zollies               414 Delaware Street   \n",
       "30142        Zoup! Christiana          2136 Fashion Center Blvd   \n",
       "30143        Zoup! Store #155                 4715 Kirkwood Hwy   \n",
       "\n",
       "      Food Establishment City  Food Establishment Zip Code Inspection Date  \\\n",
       "0                  Wilmington                      19808.0      07/08/2022   \n",
       "1                  Wilmington                      19808.0      07/08/2022   \n",
       "2                  Wilmington                      19808.0      07/08/2022   \n",
       "3                  Wilmington                      19808.0      07/08/2022   \n",
       "4                  Wilmington                      19808.0      07/08/2022   \n",
       "...                       ...                          ...             ...   \n",
       "30139              New Castle                      19720.0      02/23/2023   \n",
       "30140              New Castle                      19720.0      02/23/2023   \n",
       "30141              New Castle                      19720.0      02/23/2023   \n",
       "30142                  Newark                      19702.0      11/13/2023   \n",
       "30143              Wilmington                      19808.0      05/10/2023   \n",
       "\n",
       "      Inspection Type Violation Code  \\\n",
       "0             Routine       2-102.12   \n",
       "1             Routine       5-202.12   \n",
       "2             Routine       6-301.12   \n",
       "3             Routine       3-501.16   \n",
       "4             Routine       4-302.14   \n",
       "...               ...            ...   \n",
       "30139         Routine       3-501.16   \n",
       "30140         Routine       3-502.12   \n",
       "30141         Routine       3-501.13   \n",
       "30142         Routine       4-302.13   \n",
       "30143         Routine       4-302.14   \n",
       "\n",
       "                                   Violation Description  \\\n",
       "0                      Certified Food Protection Manager   \n",
       "1                        Handwashing Sinks, Installation   \n",
       "2                                  Hand Drying Provision   \n",
       "3      Time/Temperature Control for Safety Food, Hot ...   \n",
       "4                  Sanitizing Solutions, Testing Devices   \n",
       "...                                                  ...   \n",
       "30139  Time/Temperature Control for Safety Food, Hot ...   \n",
       "30140                 Reduced Oxygen Packaging, Criteria   \n",
       "30141                                            Thawing   \n",
       "30142  Temperature Measuring Devices, Manual and Mech...   \n",
       "30143              Sanitizing Solutions, Testing Devices   \n",
       "\n",
       "                                       Geocoded Location  \n",
       "0      4526 New Linden Hill Road\\nWilmington, DE 1980...  \n",
       "1      4526 New Linden Hill Road\\nWilmington, DE 1980...  \n",
       "2      4526 New Linden Hill Road\\nWilmington, DE 1980...  \n",
       "3      4526 New Linden Hill Road\\nWilmington, DE 1980...  \n",
       "4      4526 New Linden Hill Road\\nWilmington, DE 1980...  \n",
       "...                                                  ...  \n",
       "30139  414 Delaware Street\\nNew Castle, DE 19720\\n(39...  \n",
       "30140  414 Delaware Street\\nNew Castle, DE 19720\\n(39...  \n",
       "30141  414 Delaware Street\\nNew Castle, DE 19720\\n(39...  \n",
       "30142  2136 Fashion Center Blvd\\nNewark, DE 19702\\n(3...  \n",
       "30143  4715 Kirkwood Hwy\\nWilmington, DE 19808\\n(39.7...  \n",
       "\n",
       "[30144 rows x 9 columns]>"
      ]
     },
     "execution_count": 5,
     "metadata": {},
     "output_type": "execute_result"
    }
   ],
   "source": [
    "df.head"
   ]
  },
  {
   "cell_type": "code",
   "execution_count": 6,
   "id": "cfe43637-e85c-4b5a-bbda-aebb9de86ee7",
   "metadata": {},
   "outputs": [
    {
     "data": {
      "text/plain": [
       "<bound method DataFrame.count of       Food Establishment Name Food Establishment Street Address  \\\n",
       "0           1000 Degree Pizza         4526 New Linden Hill Road   \n",
       "1           1000 Degree Pizza         4526 New Linden Hill Road   \n",
       "2           1000 Degree Pizza         4526 New Linden Hill Road   \n",
       "3           1000 Degree Pizza         4526 New Linden Hill Road   \n",
       "4           1000 Degree Pizza         4526 New Linden Hill Road   \n",
       "...                       ...                               ...   \n",
       "30139                 Zollies               414 Delaware Street   \n",
       "30140                 Zollies               414 Delaware Street   \n",
       "30141                 Zollies               414 Delaware Street   \n",
       "30142        Zoup! Christiana          2136 Fashion Center Blvd   \n",
       "30143        Zoup! Store #155                 4715 Kirkwood Hwy   \n",
       "\n",
       "      Food Establishment City  Food Establishment Zip Code Inspection Date  \\\n",
       "0                  Wilmington                      19808.0      07/08/2022   \n",
       "1                  Wilmington                      19808.0      07/08/2022   \n",
       "2                  Wilmington                      19808.0      07/08/2022   \n",
       "3                  Wilmington                      19808.0      07/08/2022   \n",
       "4                  Wilmington                      19808.0      07/08/2022   \n",
       "...                       ...                          ...             ...   \n",
       "30139              New Castle                      19720.0      02/23/2023   \n",
       "30140              New Castle                      19720.0      02/23/2023   \n",
       "30141              New Castle                      19720.0      02/23/2023   \n",
       "30142                  Newark                      19702.0      11/13/2023   \n",
       "30143              Wilmington                      19808.0      05/10/2023   \n",
       "\n",
       "      Inspection Type Violation Code  \\\n",
       "0             Routine       2-102.12   \n",
       "1             Routine       5-202.12   \n",
       "2             Routine       6-301.12   \n",
       "3             Routine       3-501.16   \n",
       "4             Routine       4-302.14   \n",
       "...               ...            ...   \n",
       "30139         Routine       3-501.16   \n",
       "30140         Routine       3-502.12   \n",
       "30141         Routine       3-501.13   \n",
       "30142         Routine       4-302.13   \n",
       "30143         Routine       4-302.14   \n",
       "\n",
       "                                   Violation Description  \\\n",
       "0                      Certified Food Protection Manager   \n",
       "1                        Handwashing Sinks, Installation   \n",
       "2                                  Hand Drying Provision   \n",
       "3      Time/Temperature Control for Safety Food, Hot ...   \n",
       "4                  Sanitizing Solutions, Testing Devices   \n",
       "...                                                  ...   \n",
       "30139  Time/Temperature Control for Safety Food, Hot ...   \n",
       "30140                 Reduced Oxygen Packaging, Criteria   \n",
       "30141                                            Thawing   \n",
       "30142  Temperature Measuring Devices, Manual and Mech...   \n",
       "30143              Sanitizing Solutions, Testing Devices   \n",
       "\n",
       "                                       Geocoded Location  \n",
       "0      4526 New Linden Hill Road\\nWilmington, DE 1980...  \n",
       "1      4526 New Linden Hill Road\\nWilmington, DE 1980...  \n",
       "2      4526 New Linden Hill Road\\nWilmington, DE 1980...  \n",
       "3      4526 New Linden Hill Road\\nWilmington, DE 1980...  \n",
       "4      4526 New Linden Hill Road\\nWilmington, DE 1980...  \n",
       "...                                                  ...  \n",
       "30139  414 Delaware Street\\nNew Castle, DE 19720\\n(39...  \n",
       "30140  414 Delaware Street\\nNew Castle, DE 19720\\n(39...  \n",
       "30141  414 Delaware Street\\nNew Castle, DE 19720\\n(39...  \n",
       "30142  2136 Fashion Center Blvd\\nNewark, DE 19702\\n(3...  \n",
       "30143  4715 Kirkwood Hwy\\nWilmington, DE 19808\\n(39.7...  \n",
       "\n",
       "[30144 rows x 9 columns]>"
      ]
     },
     "execution_count": 6,
     "metadata": {},
     "output_type": "execute_result"
    }
   ],
   "source": [
    "df.count"
   ]
  },
  {
   "cell_type": "code",
   "execution_count": 7,
   "id": "cb0a09d8-9abd-4c54-96c5-3fe5edc7640d",
   "metadata": {},
   "outputs": [
    {
     "data": {
      "text/plain": [
       "Index(['Food Establishment Name', 'Food Establishment Street Address',\n",
       "       'Food Establishment City', 'Food Establishment Zip Code',\n",
       "       'Inspection Date', 'Inspection Type', 'Violation Code',\n",
       "       'Violation Description', 'Geocoded Location'],\n",
       "      dtype='object')"
      ]
     },
     "execution_count": 7,
     "metadata": {},
     "output_type": "execute_result"
    }
   ],
   "source": [
    "df.columns"
   ]
  },
  {
   "cell_type": "code",
   "execution_count": 8,
   "id": "07faea71-39bc-49c3-86d5-d0267c02024b",
   "metadata": {},
   "outputs": [],
   "source": [
    "df2 = df.drop_duplicates('Food Establishment Name')"
   ]
  },
  {
   "cell_type": "code",
   "execution_count": 9,
   "id": "bed6f0fd-f7fb-427c-8933-5f64ff457c40",
   "metadata": {},
   "outputs": [
    {
     "data": {
      "text/plain": [
       "<bound method DataFrame.count of        Food Establishment Name Food Establishment Street Address  \\\n",
       "0            1000 Degree Pizza         4526 New Linden Hill Road   \n",
       "6                       11-Jul                  654 N Dupont Hwy   \n",
       "11                    13 Wingz                   639 Phillips St   \n",
       "14       1300 Bar & Restaurant                  1300 N Market St   \n",
       "34               14 Global LLC             14 N Pennsylvania Ave   \n",
       "...                        ...                               ...   \n",
       "30123  Zogg's Bar & Restaurant               1 Wilmington Avenue   \n",
       "30125          Zoggs Rum Shack                  1 Wilmington Ave   \n",
       "30128                  Zollies               414 Delaware Street   \n",
       "30142         Zoup! Christiana          2136 Fashion Center Blvd   \n",
       "30143         Zoup! Store #155                 4715 Kirkwood Hwy   \n",
       "\n",
       "      Food Establishment City  Food Establishment Zip Code Inspection Date  \\\n",
       "0                  Wilmington                      19808.0      07/08/2022   \n",
       "6                       Dover                      19901.0      05/26/2023   \n",
       "11                    Seaford                      19973.0      02/08/2023   \n",
       "14                 Wilmington                      19801.0      06/16/2022   \n",
       "34              Bethany Beach                      19930.0      07/07/2022   \n",
       "...                       ...                          ...             ...   \n",
       "30123          Rehoboth Beach                      19971.0      07/10/2023   \n",
       "30125                 Wyoming                      19971.0      06/02/2022   \n",
       "30128              New Castle                      19720.0      04/21/2022   \n",
       "30142                  Newark                      19702.0      11/13/2023   \n",
       "30143              Wilmington                      19808.0      05/10/2023   \n",
       "\n",
       "      Inspection Type Violation Code  \\\n",
       "0             Routine       2-102.12   \n",
       "6             Routine       4-601.11   \n",
       "11            Routine       5-202.13   \n",
       "14            Routine       2-102.12   \n",
       "34            Routine      4-501.114   \n",
       "...               ...            ...   \n",
       "30123         Routine       5-205.15   \n",
       "30125         Routine       2-401.11   \n",
       "30128         Routine       2-102.12   \n",
       "30142         Routine       4-302.13   \n",
       "30143         Routine       4-302.14   \n",
       "\n",
       "                                   Violation Description  \\\n",
       "0                      Certified Food Protection Manager   \n",
       "6      Equipment, Food-Contact Surfaces, Nonfood-Cont...   \n",
       "11                          Backflow Prevention, Air Gap   \n",
       "14                     Certified Food Protection Manager   \n",
       "34     Manual and Mechanical Warewashing Equipment, C...   \n",
       "...                                                  ...   \n",
       "30123                   System Maintained in Good Repair   \n",
       "30125                 Eating, Drinking, or Using Tobacco   \n",
       "30128                  Certified Food Protection Manager   \n",
       "30142  Temperature Measuring Devices, Manual and Mech...   \n",
       "30143              Sanitizing Solutions, Testing Devices   \n",
       "\n",
       "                                       Geocoded Location  \n",
       "0      4526 New Linden Hill Road\\nWilmington, DE 1980...  \n",
       "6      654 N Dupont Hwy\\nDover, DE 19901\\n(39.1782000...  \n",
       "11     639 Phillips St\\nSeaford, DE 19973\\n(38.645889...  \n",
       "14     1300 N Market St\\nWilmington, DE 19801\\n(39.74...  \n",
       "34     14 N Pennsylvania Ave\\nBethany Beach, DE 19930...  \n",
       "...                                                  ...  \n",
       "30123  1 Wilmington Avenue\\nRehoboth Beach, DE 19971\\...  \n",
       "30125  1 Wilmington Ave\\nWyoming, DE 19971\\n(38.71599...  \n",
       "30128  414 Delaware Street\\nNew Castle, DE 19720\\n(39...  \n",
       "30142  2136 Fashion Center Blvd\\nNewark, DE 19702\\n(3...  \n",
       "30143  4715 Kirkwood Hwy\\nWilmington, DE 19808\\n(39.7...  \n",
       "\n",
       "[3102 rows x 9 columns]>"
      ]
     },
     "execution_count": 9,
     "metadata": {},
     "output_type": "execute_result"
    }
   ],
   "source": [
    "df2.count"
   ]
  },
  {
   "cell_type": "code",
   "execution_count": 10,
   "id": "2ecb7f0a-fe2f-4694-9c94-b7aa9e325048",
   "metadata": {},
   "outputs": [
    {
     "ename": "NameError",
     "evalue": "name '__file__' is not defined",
     "output_type": "error",
     "traceback": [
      "\u001b[0;31m---------------------------------------------------------------------------\u001b[0m",
      "\u001b[0;31mNameError\u001b[0m                                 Traceback (most recent call last)",
      "Cell \u001b[0;32mIn[10], line 2\u001b[0m\n\u001b[1;32m      1\u001b[0m \u001b[38;5;28;01mimport\u001b[39;00m \u001b[38;5;21;01mos\u001b[39;00m\n\u001b[0;32m----> 2\u001b[0m file_dir \u001b[38;5;241m=\u001b[39m os\u001b[38;5;241m.\u001b[39mpath\u001b[38;5;241m.\u001b[39mdirname(os\u001b[38;5;241m.\u001b[39mpath\u001b[38;5;241m.\u001b[39mabspath(\u001b[38;5;18;43m__file__\u001b[39;49m))\n\u001b[1;32m      3\u001b[0m csv_folder \u001b[38;5;241m=\u001b[39m \u001b[38;5;124m'\u001b[39m\u001b[38;5;124mwrangled_data\u001b[39m\u001b[38;5;124m'\u001b[39m\n\u001b[1;32m      4\u001b[0m file_path \u001b[38;5;241m=\u001b[39m os\u001b[38;5;241m.\u001b[39mpath\u001b[38;5;241m.\u001b[39mjoin(file_dir, csv_folder, \u001b[38;5;124m'\u001b[39m\u001b[38;5;124mall_restaurants.csv\u001b[39m\u001b[38;5;124m'\u001b[39m)\n",
      "\u001b[0;31mNameError\u001b[0m: name '__file__' is not defined"
     ]
    }
   ],
   "source": [
    "import os\n",
    "file_dir = os.path.dirname(os.path.abspath(__file__))\n",
    "csv_folder = 'wrangled_data'\n",
    "file_path = os.path.join(file_dir, csv_folder, 'all_restaurants.csv')"
   ]
  },
  {
   "cell_type": "code",
   "execution_count": null,
   "id": "e27ebb36-79ca-45d0-a519-e8e710dace7f",
   "metadata": {},
   "outputs": [],
   "source": [
    "file_dir = os.path.dirname(os.path.abspath(__file__))\n",
    "csv_folder = 'wrangled_data'\n",
    "file_path = os.path.join(file_dir, csv_folder, 'all_restaurants.csv')"
   ]
  },
  {
   "cell_type": "code",
   "execution_count": 12,
   "id": "cf3b6afa-2b71-426b-85c6-d43a8d060c22",
   "metadata": {},
   "outputs": [],
   "source": [
    "df2.to_csv('/Users/mike/projects/explore-yelp-api/wrangled_data/all_restaurants.csv', header=True, index=False)"
   ]
  },
  {
   "cell_type": "code",
   "execution_count": null,
   "id": "b39dae0e-da31-4f00-9370-650035d54f4f",
   "metadata": {},
   "outputs": [],
   "source": []
  }
 ],
 "metadata": {
  "kernelspec": {
   "display_name": "Python 3 (ipykernel)",
   "language": "python",
   "name": "python3"
  },
  "language_info": {
   "codemirror_mode": {
    "name": "ipython",
    "version": 3
   },
   "file_extension": ".py",
   "mimetype": "text/x-python",
   "name": "python",
   "nbconvert_exporter": "python",
   "pygments_lexer": "ipython3",
   "version": "3.12.0"
  }
 },
 "nbformat": 4,
 "nbformat_minor": 5
}
